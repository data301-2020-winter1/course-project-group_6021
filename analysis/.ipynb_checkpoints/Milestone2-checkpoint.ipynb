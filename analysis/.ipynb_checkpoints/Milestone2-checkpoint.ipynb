{
 "cells": [
  {
   "cell_type": "markdown",
   "metadata": {},
   "source": [
    "# First we start by importing everything we'll need to answer our analysis questions"
   ]
  },
  {
   "cell_type": "code",
   "execution_count": 1,
   "metadata": {},
   "outputs": [],
   "source": [
    "import pandas as pd\n",
    "import numpy as np\n",
    "import seaborn as sns\n",
    "from project_functions import *"
   ]
  },
  {
   "cell_type": "markdown",
   "metadata": {},
   "source": [
    "Next, we'll answer the following questions:\n",
    "* What month of the year seems to be the most popular for bike share?\n",
    "* Does the weather impact the number of bike share users?\n",
    "* Do registered users use the bike sharing program more on weekends or weekdays?\n",
    "* Do casual users use the bike sharing program more on weekends or weekdays?\n",
    "* Did the bike sharing program get more or less popular in 2012 compared to 2011?"
   ]
  },
  {
   "cell_type": "markdown",
   "metadata": {},
   "source": [
    "### Question 1\n",
    "\n",
    "#### What moth of the year seems to be the most popular for bike share?"
   ]
  },
  {
   "cell_type": "code",
   "execution_count": 2,
   "metadata": {},
   "outputs": [
    {
     "name": "stdout",
     "output_type": "stream",
     "text": [
      "     Month        Date  Total\n",
      "623   Sept  2012-09-15   8714\n",
      "637   Sept  2012-09-29   8555\n",
      "630   Sept  2012-09-22   8395\n",
      "447  March  2012-03-23   8362\n",
      "504    May  2012-05-19   8294\n",
      "..     ...         ...    ...\n",
      "64   March  2011-03-06    605\n",
      "25     Jan  2011-01-26    506\n",
      "725    Dec  2012-12-26    441\n",
      "26     Jan  2011-01-27    431\n",
      "667    Oct  2012-10-29     22\n",
      "\n",
      "[731 rows x 3 columns]\n"
     ]
    }
   ],
   "source": [
    "Q1 = tpd(\"../data/raw/day.csv\")\n",
    "print(Q1)"
   ]
  },
  {
   "cell_type": "markdown",
   "metadata": {},
   "source": [
    "#### So it seems the most popular month between the years 2011 to 2012 was September of 2012."
   ]
  },
  {
   "cell_type": "code",
   "execution_count": null,
   "metadata": {},
   "outputs": [],
   "source": []
  }
 ],
 "metadata": {
  "kernelspec": {
   "display_name": "Python 3",
   "language": "python",
   "name": "python3"
  },
  "language_info": {
   "codemirror_mode": {
    "name": "ipython",
    "version": 3
   },
   "file_extension": ".py",
   "mimetype": "text/x-python",
   "name": "python",
   "nbconvert_exporter": "python",
   "pygments_lexer": "ipython3",
   "version": "3.8.3"
  }
 },
 "nbformat": 4,
 "nbformat_minor": 4
}
