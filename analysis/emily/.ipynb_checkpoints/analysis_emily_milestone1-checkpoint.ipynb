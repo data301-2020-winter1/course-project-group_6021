{
 "cells": [
  {
   "cell_type": "code",
   "execution_count": 4,
   "metadata": {},
   "outputs": [
    {
     "name": "stdout",
     "output_type": "stream",
     "text": [
      "instant       731\n",
      "dteday        731\n",
      "season        731\n",
      "yr            731\n",
      "mnth          731\n",
      "holiday       731\n",
      "weekday       731\n",
      "workingday    731\n",
      "weathersit    731\n",
      "temp          731\n",
      "atemp         731\n",
      "hum           731\n",
      "windspeed     731\n",
      "casual        731\n",
      "registered    731\n",
      "cnt           731\n",
      "dtype: int64\n"
     ]
    }
   ],
   "source": [
    "import pandas as pd\n",
    "\n",
    "df  = pd.read_csv(\"data/raw/day.csv\")\n",
    "print(df.count())\n"
   ]
  },
  {
   "cell_type": "code",
   "execution_count": 3,
   "metadata": {},
   "outputs": [
    {
     "name": "stdout",
     "output_type": "stream",
     "text": [
      "CODE_OF_CONDUCT.md               analysis_emily_milestone1.ipynb\n",
      "LICENSE                          \u001b[1m\u001b[36mdata\u001b[m\u001b[m/\n",
      "README.md                        \u001b[1m\u001b[36mimages\u001b[m\u001b[m/\n",
      "\u001b[1m\u001b[36manalysis\u001b[m\u001b[m/\n"
     ]
    }
   ],
   "source": [
    "ls"
   ]
  },
  {
   "cell_type": "code",
   "execution_count": 4,
   "metadata": {},
   "outputs": [
    {
     "name": "stdout",
     "output_type": "stream",
     "text": [
      "/Users/emilydraper/Desktop/301/course-project-group_6021/analysis\n"
     ]
    }
   ],
   "source": [
    "cd analysis"
   ]
  }
 ],
 "metadata": {
  "kernelspec": {
   "display_name": "Python 3",
   "language": "python",
   "name": "python3"
  },
  "language_info": {
   "codemirror_mode": {
    "name": "ipython",
    "version": 3
   },
   "file_extension": ".py",
   "mimetype": "text/x-python",
   "name": "python",
   "nbconvert_exporter": "python",
   "pygments_lexer": "ipython3",
   "version": "3.8.3"
  }
 },
 "nbformat": 4,
 "nbformat_minor": 4
}
