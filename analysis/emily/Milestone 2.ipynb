{
 "cells": [
  {
   "cell_type": "code",
   "execution_count": 2,
   "metadata": {},
   "outputs": [
    {
     "name": "stdout",
     "output_type": "stream",
     "text": [
      "instant       731\n",
      "dteday        731\n",
      "season        731\n",
      "yr            731\n",
      "mnth          731\n",
      "holiday       731\n",
      "weekday       731\n",
      "workingday    731\n",
      "weathersit    731\n",
      "temp          731\n",
      "atemp         731\n",
      "hum           731\n",
      "windspeed     731\n",
      "casual        731\n",
      "registered    731\n",
      "cnt           731\n",
      "dtype: int64\n"
     ]
    }
   ],
   "source": [
    "import pandas as pd\n",
    "import numpy as np\n",
    "\n",
    "df  = pd.read_csv(\"../../data/raw/day.csv\")\n",
    "print(df.count())\n",
    "\n"
   ]
  },
  {
   "cell_type": "code",
   "execution_count": 15,
   "metadata": {},
   "outputs": [],
   "source": [
    "def pop_dates(data):\n",
    "    dates = []\n",
    "    df2 = data.sort_values(by = \"cnt\", ascending = False)\n",
    "    \n"
   ]
  },
  {
   "cell_type": "code",
   "execution_count": 12,
   "metadata": {},
   "outputs": [
    {
     "name": "stdout",
     "output_type": "stream",
     "text": [
      "     instant      dteday  season  yr  mnth  holiday  weekday  workingday  \\\n",
      "623      624  2012-09-15       3   1     9        0        6           0   \n",
      "637      638  2012-09-29       4   1     9        0        6           0   \n",
      "630      631  2012-09-22       3   1     9        0        6           0   \n",
      "447      448  2012-03-23       2   1     3        0        5           1   \n",
      "504      505  2012-05-19       2   1     5        0        6           0   \n",
      "\n",
      "     weathersit      temp     atemp       hum  windspeed  casual  registered  \\\n",
      "623           1  0.608333  0.585867  0.501667   0.247521    3160        5554   \n",
      "637           1  0.542500  0.530296  0.542917   0.227604    2589        5966   \n",
      "630           1  0.650000  0.610488  0.646667   0.283583    2512        5883   \n",
      "447           2  0.601667  0.570067  0.694167   0.116300    2469        5893   \n",
      "504           1  0.600000  0.566908  0.456250   0.083975    3410        4884   \n",
      "\n",
      "      cnt  \n",
      "623  8714  \n",
      "637  8555  \n",
      "630  8395  \n",
      "447  8362  \n",
      "504  8294  \n"
     ]
    }
   ],
   "source": [
    "pop_dates(df)"
   ]
  },
  {
   "cell_type": "code",
   "execution_count": null,
   "metadata": {},
   "outputs": [],
   "source": []
  }
 ],
 "metadata": {
  "kernelspec": {
   "display_name": "Python 3",
   "language": "python",
   "name": "python3"
  },
  "language_info": {
   "codemirror_mode": {
    "name": "ipython",
    "version": 3
   },
   "file_extension": ".py",
   "mimetype": "text/x-python",
   "name": "python",
   "nbconvert_exporter": "python",
   "pygments_lexer": "ipython3",
   "version": "3.8.3"
  }
 },
 "nbformat": 4,
 "nbformat_minor": 4
}
